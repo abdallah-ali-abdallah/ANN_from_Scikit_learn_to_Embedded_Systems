{
  "nbformat": 4,
  "nbformat_minor": 0,
  "metadata": {
    "colab": {
      "name": "Embedded_Color_MLPClassifier.ipynb",
      "provenance": [],
      "collapsed_sections": []
    },
    "kernelspec": {
      "name": "python3",
      "display_name": "Python 3"
    }
  },
  "cells": [
    {
      "cell_type": "code",
      "metadata": {
        "id": "IoutTuwbcYsy",
        "colab_type": "code",
        "colab": {}
      },
      "source": [
        "# First lets setup  the tools we need \n",
        "\n",
        "!pip install pybind11\n",
        "!pip install emlearn\n",
        "!pip install scikit-learn\n",
        "!pip install pandas"
      ],
      "execution_count": 0,
      "outputs": []
    },
    {
      "cell_type": "code",
      "metadata": {
        "id": "HWPIHKygcbE_",
        "colab_type": "code",
        "outputId": "9ad2b7ff-53a6-4c73-c856-85ded1f43fe3",
        "colab": {
          "base_uri": "https://localhost:8080/",
          "height": 89
        }
      },
      "source": [
        "from sklearn.neural_network import MLPClassifier\n",
        "import pandas as pd\n",
        "import numpy as np\n",
        "import emlearn\n",
        "\n",
        "'''\n",
        "Color classes (you can change the sequence as you wish)\n",
        "0 - Empty\n",
        "1 - Black\n",
        "2 - Pink\n",
        "3 - yellow\n",
        "4 - LightBlue\n",
        "5 - Red \n",
        "'''\n",
        "\n",
        "# Read dataset from CSV\n",
        "data = pd.read_csv('./all_colors_dataset.csv')\n",
        "\n",
        "# Prepare data for model by making 2 arrays X:for inputs Y:for labels\n",
        "response = data[['c1','c2','c3']]\n",
        "labels = data['color_code']\n",
        "\n",
        "# Create and fit model object\n",
        "clf = MLPClassifier(solver='adam', hidden_layer_sizes=[5], max_iter=15000,activation='logistic')\n",
        "clf.fit(response,labels)\n",
        "\n",
        "# Check model score\n",
        "model_score = clf.score(response,labels)\n",
        "print(\"Model generated with accuracy: {0:.2f}% \\n\".format(model_score*100))\n",
        " \n",
        "# Generate the header for embedded C code\n",
        "cmodel = emlearn.convert(clf)\n",
        "cmodel.save(file='colorMLP.h')\n"
      ],
      "execution_count": 0,
      "outputs": [
        {
          "output_type": "stream",
          "text": [
            "Model generated with accuracy: 98.04% \n",
            "\n"
          ],
          "name": "stdout"
        },
        {
          "output_type": "execute_result",
          "data": {
            "text/plain": [
              "'#include <eml_net.h>\\nstatic const float colorMLP_layer0_weights[15] = { 0.183447f, 0.302220f, 0.018738f, -0.203600f, 0.233566f, 0.110253f, -0.220085f, -0.128555f, -0.364411f, 0.138600f, 0.204644f, -0.075888f, 0.013549f, 0.282305f, 0.276696f };\\nstatic const float colorMLP_layer0_biases[5] = { 4.122001f, -6.768354f, 5.787021f, -2.125384f, 2.438486f };\\nstatic const float colorMLP_layer1_weights[30] = { 1.589587f, 1.633732f, -0.768160f, -1.569158f, -0.600736f, 0.201725f, 0.841693f, -9.893068f, 0.994306f, 3.547186f, -4.285238f, 4.885420f, -11.165848f, 2.920865f, 6.948630f, -1.549873f, 2.704024f, -1.852139f, -7.154485f, -9.465133f, -3.041701f, 4.797207f, 4.103855f, -8.517349f, 1.728569f, 1.896837f, -0.994719f, -2.057266f, -0.722693f, -0.040336f };\\nstatic const float colorMLP_layer1_biases[6] = { 1.985336f, 1.144184f, -0.970981f, -1.361944f, -0.851052f, 0.138306f };\\nstatic float colorMLP_buf1[6];\\nstatic float colorMLP_buf2[6];\\nstatic const EmlNetLayer colorMLP_layers[2] = { \\n{ 5, 3, colorMLP_layer0_weights, colorMLP_layer0_biases, EmlNetActivationLogistic }, \\n{ 6, 5, colorMLP_layer1_weights, colorMLP_layer1_biases, EmlNetActivationSoftmax } };\\nstatic EmlNet colorMLP = { 2, colorMLP_layers, colorMLP_buf1, colorMLP_buf2, 6 };'"
            ]
          },
          "metadata": {
            "tags": []
          },
          "execution_count": 130
        }
      ]
    },
    {
      "cell_type": "markdown",
      "metadata": {
        "id": "uxnqjKv4caNS",
        "colab_type": "text"
      },
      "source": [
        ""
      ]
    }
  ]
}